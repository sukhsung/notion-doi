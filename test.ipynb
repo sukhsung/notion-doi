{
 "cells": [
  {
   "cell_type": "code",
   "execution_count": 5,
   "metadata": {},
   "outputs": [],
   "source": [
    "import os\n",
    "from notion_client import Client\n",
    "import py_journal\n",
    "\n",
    "notion = Client(auth=os.environ[\"NOTION_TOKEN\"])\n"
   ]
  },
  {
   "cell_type": "code",
   "execution_count": 6,
   "metadata": {},
   "outputs": [],
   "source": [
    "database_id = \"91d096542c42427b9541e1b3483b7e0e\"\n",
    "\n",
    "db = notion.databases.retrieve(database_id= database_id)"
   ]
  },
  {
   "cell_type": "code",
   "execution_count": 7,
   "metadata": {},
   "outputs": [],
   "source": [
    "results = []\n",
    "query = notion.databases.query(database_id=database_id)\n",
    "results.extend(query['results'])\n",
    "while query['next_cursor']:\n",
    "    query = notion.databases.query(database_id=database_id, start_cursor=query['next_cursor'])\n",
    "    result = query['results']\n",
    "    results.extend( result )\n",
    "\n"
   ]
  },
  {
   "cell_type": "code",
   "execution_count": 9,
   "metadata": {},
   "outputs": [
    {
     "name": "stdout",
     "output_type": "stream",
     "text": [
      "10.1016/0146-3535(89)90027-0\n",
      "10.1016/0304-8853(90)90689-N\n",
      "10.1021/acs.nanolett.1c00219\n",
      "10.1002/adma.202003240\n",
      "10.1080/14786437408207274\n",
      "10.1063/1.3623783\n",
      "10.1147/rd.95.0358\n",
      "10.1103/PhysRevLett.50.1791\n",
      "10.1038/s41598-020-80082-x\n",
      "10.1051/jphyscol:1977734\n",
      "10.1107/S0021889887086667\n",
      "10.1021/acs.nanolett.6b02870\n",
      "10.1126/sciadv.aas9660\n",
      "10.1038/nature08105\n",
      "10.1103/PhysRevLett.97.187401\n",
      "10.1088/0022-3719/11/20/009\n",
      "10.1073/pnas.1606044113\n",
      "10.1021/acsnano.5b05474\n",
      "10.1073/pnas.14.4.317\n",
      "10.1080/00018737500101391\n",
      "10.1002/adfm.201601338\n",
      "10.1038/nnano.2015.40\n",
      "10.1021/nl2022288\n",
      "10.1073/pnas.1309394110\n",
      "10.1038/nmat5038\n",
      "10.1021/nl903868w\n",
      "10.1021/nl403328s\n",
      "10.1107/S0108768183002645\n",
      "10.1038/s41535-017-0025-8\n",
      "10.1016/j.ultramic.2014.05.010\n",
      "10.1038/nphys3856\n",
      "10.1039/C39920001386\n",
      "10.1021/nn1033423\n",
      "10.1038/nature09718\n",
      "10.1038/nature26160\n",
      "10.1073/pnas.1512092112\n",
      "10.1038/natrevmats.2016.55\n",
      "10.1073/pnas.1714901115\n",
      "10.1103/PhysRevB.33.3830\n",
      "10.1063/1.4873406\n",
      "10.1051/anphys/192510030022\n",
      "10.1103/PhysRevLett.95.226801\n",
      "10.1103/PhysRevB.84.205325\n",
      "10.1038/119890a0\n",
      "10.1103/PhysRevLett.69.1576\n",
      "10.1103/PhysRevB.69.134111\n",
      "10.1038/nchem.1589\n",
      "10.1088/2053-1583/3/2/024005\n",
      "10.1038/s41563-019-0346-z\n",
      "10.1038/171737a0\n",
      "10.1103/PhysRevLett.53.1951\n",
      "10.1098/rspa.1913.0083\n",
      "No Author! You should skip\n",
      "10.1021/acs.nanolett.5b03597\n",
      "10.1038/s41557-018-0035-6\n",
      "10.1038/ncomms8128\n",
      "10.1038/nature05545\n",
      "10.1038/ncomms5155\n",
      "10.1021/nl204547v\n",
      "10.1021/acsnano.7b07604\n",
      "10.1038/nature02308\n"
     ]
    }
   ],
   "source": [
    "\n",
    "m_list = []\n",
    "for result in results:\n",
    "    try:\n",
    "        doi = result['properties']['doi']['rich_text'][0]['plain_text'] \n",
    "    except:\n",
    "        doi = ''\n",
    "    if len(doi) >0 and not result['properties']['Managed']['checkbox']:\n",
    "        print(doi)\n",
    "        m = py_journal.manuscript( doi ) \n",
    "        if len(m.authors) > 0:\n",
    "            m_list.append( m )\n",
    "\n",
    "            page_id = result['id']\n",
    "            new_props = m.make_properties()\n",
    "            notion.pages.update( page_id, **new_props )\n",
    "\n"
   ]
  },
  {
   "cell_type": "code",
   "execution_count": 5,
   "metadata": {},
   "outputs": [],
   "source": []
  },
  {
   "cell_type": "code",
   "execution_count": 6,
   "metadata": {},
   "outputs": [
    {
     "data": {
      "text/plain": [
       "'C.-J.'"
      ]
     },
     "execution_count": 6,
     "metadata": {},
     "output_type": "execute_result"
    }
   ],
   "source": [
    "m.authors[0].given_abbrev()"
   ]
  },
  {
   "cell_type": "code",
   "execution_count": 15,
   "metadata": {},
   "outputs": [
    {
     "name": "stdout",
     "output_type": "stream",
     "text": [
      "van Meer\n"
     ]
    }
   ],
   "source": [
    "\n"
   ]
  }
 ],
 "metadata": {
  "interpreter": {
   "hash": "2c3dc0c4243e12c94345912077b3bea1fe5b47e60dba3e353308e103834046fc"
  },
  "kernelspec": {
   "display_name": "Python 3.9.10 ('py_notion': venv)",
   "language": "python",
   "name": "python3"
  },
  "language_info": {
   "codemirror_mode": {
    "name": "ipython",
    "version": 3
   },
   "file_extension": ".py",
   "mimetype": "text/x-python",
   "name": "python",
   "nbconvert_exporter": "python",
   "pygments_lexer": "ipython3",
   "version": "3.9.10"
  },
  "orig_nbformat": 4
 },
 "nbformat": 4,
 "nbformat_minor": 2
}
